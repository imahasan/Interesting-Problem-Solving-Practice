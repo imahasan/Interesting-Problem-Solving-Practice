{
 "cells": [
  {
   "cell_type": "markdown",
   "id": "c8062e26",
   "metadata": {},
   "source": [
    "# Tower of Hanoi Problem\n",
    "\n",
    "The Tower of Hanoi is a classic problem in computer science and mathematics involving three rods and a number of disks of different sizes, which can slide onto any rod.\n",
    "\n",
    "The objective of the puzzle is to move the entire stack to another rod while following these rules:\n",
    "\n",
    "1. Only one disk can be moved at a time.\n",
    "2. Each move consists of taking the upper disk from one of the stacks and placing it on top of another stack or on an empty rod.\n",
    "3. No disk may be placed on top of a smaller disk.\n",
    "\n",
    "This notebook provides a recursive solution to the Tower of Hanoi problem, explains how it works, and visualizes the steps involved.\n"
   ]
  },
  {
   "cell_type": "markdown",
   "id": "a42b3b93-7dbf-45f5-abab-2a769a4355fb",
   "metadata": {},
   "source": [
    "## Problem Explanation\n",
    "\n",
    "The Tower of Hanoi puzzle starts with all disks stacked in ascending order of size on the first rod, with the smallest disk at the top. The goal is to move all disks to the target rod following the rules mentioned above.\n",
    "\n",
    "- **Source Rod (A)**: The initial rod where all disks are stacked.\n",
    "- **Auxiliary Rod (B)**: A temporary rod used for moving disks.\n",
    "- **Target Rod (C)**: The destination rod where all disks should be moved.\n",
    "\n",
    "The minimum number of moves required to solve the problem is given by the formula: \\( 2^n - 1 \\), where \\( n \\) is the number of disks.\n"
   ]
  },
  {
   "cell_type": "code",
   "execution_count": 12,
   "id": "60367c6e",
   "metadata": {},
   "outputs": [],
   "source": [
    "def tower_of_hanoi(n, source, temp, target):\n",
    "    if n == 1:\n",
    "        print(f\"Move disk 1 from {source} to {target}\")\n",
    "        return\n",
    "    tower_of_hanoi(n - 1, source, target, temp)\n",
    "    print(f\"Move disk {n} from {source} to {target}\")\n",
    "    tower_of_hanoi(n - 1, temp, source, target)"
   ]
  },
  {
   "cell_type": "code",
   "execution_count": 13,
   "id": "9fca3e03-3ac0-4b8d-bf73-ea0327c3af0c",
   "metadata": {},
   "outputs": [
    {
     "name": "stdout",
     "output_type": "stream",
     "text": [
      "Move disk 1 from A to B\n",
      "Move disk 2 from A to C\n",
      "Move disk 1 from B to C\n",
      "Move disk 3 from A to B\n",
      "Move disk 1 from C to A\n",
      "Move disk 2 from C to B\n",
      "Move disk 1 from A to B\n",
      "Move disk 4 from A to C\n",
      "Move disk 1 from B to C\n",
      "Move disk 2 from B to A\n",
      "Move disk 1 from C to A\n",
      "Move disk 3 from B to C\n",
      "Move disk 1 from A to B\n",
      "Move disk 2 from A to C\n",
      "Move disk 1 from B to C\n"
     ]
    }
   ],
   "source": [
    "# Use of the above function\n",
    "# To change the number of disks change the below value at \"n_disks\"\n",
    "n_disks = 4\n",
    "tower_of_hanoi(n_disks, 'A', 'B', 'C')"
   ]
  }
 ],
 "metadata": {
  "kernelspec": {
   "display_name": "Python 3 (ipykernel)",
   "language": "python",
   "name": "python3"
  },
  "language_info": {
   "codemirror_mode": {
    "name": "ipython",
    "version": 3
   },
   "file_extension": ".py",
   "mimetype": "text/x-python",
   "name": "python",
   "nbconvert_exporter": "python",
   "pygments_lexer": "ipython3",
   "version": "3.11.7"
  }
 },
 "nbformat": 4,
 "nbformat_minor": 5
}
